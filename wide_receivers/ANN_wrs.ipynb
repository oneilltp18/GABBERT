{
 "cells": [
  {
   "cell_type": "code",
   "execution_count": 109,
   "metadata": {
    "collapsed": false
   },
   "outputs": [],
   "source": [
    "import theano\n",
    "import pandas as pd\n",
    "import numpy as np\n",
    "from keras.models import Sequential\n",
    "from keras.layers import Dense, Dropout\n",
    "from keras.wrappers.scikit_learn import KerasClassifier\n",
    "from keras.utils import np_utils\n",
    "\n",
    "from sklearn.preprocessing import LabelEncoder\n",
    "from sklearn.cross_validation import cross_val_score, KFold, cross_val_predict\n",
    "from sklearn.pipeline import Pipeline\n",
    "from sklearn.metrics import classification_report\n",
    "\n",
    "seed = 7\n",
    "np.random.seed(seed)"
   ]
  },
  {
   "cell_type": "code",
   "execution_count": 47,
   "metadata": {
    "collapsed": false,
    "scrolled": false
   },
   "outputs": [],
   "source": [
    "df = pd.read_csv('https://raw.githubusercontent.com/oneilltp18/GABBERT/master/wide_receivers/refined_training_set.csv', index_col = 'name')\n"
   ]
  },
  {
   "cell_type": "code",
   "execution_count": 48,
   "metadata": {
    "collapsed": false
   },
   "outputs": [
    {
     "data": {
      "text/plain": [
       "below average      220\n",
       "league_average      51\n",
       "quality starter     37\n",
       "all_pro             23\n",
       "Name: categories, dtype: int64"
      ]
     },
     "execution_count": 48,
     "metadata": {},
     "output_type": "execute_result"
    }
   ],
   "source": [
    "df.categories.value_counts()"
   ]
  },
  {
   "cell_type": "code",
   "execution_count": 49,
   "metadata": {
    "collapsed": false
   },
   "outputs": [
    {
     "name": "stdout",
     "output_type": "stream",
     "text": [
      "(331, 30)\n",
      "(331, 4)\n"
     ]
    },
    {
     "data": {
      "text/plain": [
       "matrix([[ 0.,  0.,  1.,  0.],\n",
       "        [ 1.,  0.,  0.,  0.],\n",
       "        [ 1.,  0.,  0.,  0.],\n",
       "        ..., \n",
       "        [ 1.,  0.,  0.,  0.],\n",
       "        [ 1.,  0.,  0.,  0.],\n",
       "        [ 1.,  0.,  0.,  0.]])"
      ]
     },
     "execution_count": 49,
     "metadata": {},
     "output_type": "execute_result"
    }
   ],
   "source": [
    "X = np.asmatrix(df.drop('categories', axis = 1))\n",
    "y = np.asmatrix(pd.get_dummies(df.categories.map({'below average':0, 'league_average':1, 'quality starter':2, 'all_pro':3})))\n",
    "\n",
    "encoder = LabelEncoder()\n",
    "encoder.fit(df.categories)\n",
    "enc_y = encoder.transform(df.categories) \n",
    "dummy_y = np_utils.to_categorical(enc_y)\n",
    "\n",
    "print X.shape\n",
    "print y.shape\n",
    "y"
   ]
  },
  {
   "cell_type": "markdown",
   "metadata": {},
   "source": [
    "# Create ANN Model"
   ]
  },
  {
   "cell_type": "code",
   "execution_count": 213,
   "metadata": {
    "collapsed": false
   },
   "outputs": [],
   "source": [
    "def baseline_model():\n",
    "    ## creating model\n",
    "    model = Sequential()\n",
    "    model.add(Dense(100, input_dim = 30, init = 'uniform', activation = 'relu'))\n",
    "#     model.add(Dropout(.2))\n",
    "#     model.add(Dense(100, init = 'uniform', activation = 'softmax'))\n",
    "#    model.add(Dropout(.3))\n",
    "#    model.add(Dense(60, init = 'uniform', activation = 'relu'))\n",
    "#    model.add(Dense(40, init = 'uniform', activation = 'relu'))\n",
    "#    model.add(Dense(20, init = 'uniform', activation = 'relu'))\n",
    "    model.add(Dense(4, init = 'uniform', activation = 'sigmoid'))\n",
    "    \n",
    "    ## compile model\n",
    "    model.compile(loss='categorical_crossentropy', optimizer='adadelta',\n",
    "              metrics=['accuracy'])\n",
    "    return model\n"
   ]
  },
  {
   "cell_type": "code",
   "execution_count": 214,
   "metadata": {
    "collapsed": false
   },
   "outputs": [],
   "source": [
    "estimator = KerasClassifier(build_fn = baseline_model, nb_epoch = 1000,\n",
    "                            batch_size = 5, verbose = 0)"
   ]
  },
  {
   "cell_type": "code",
   "execution_count": 215,
   "metadata": {
    "collapsed": true
   },
   "outputs": [],
   "source": [
    "kfold = KFold(n = len(X), n_folds = 4, shuffle = True, random_state = seed)"
   ]
  },
  {
   "cell_type": "code",
   "execution_count": 216,
   "metadata": {
    "collapsed": false,
    "scrolled": false
   },
   "outputs": [
    {
     "name": "stdout",
     "output_type": "stream",
     "text": [
      "Baseline: 63.74% (2.06%)\n"
     ]
    }
   ],
   "source": [
    "results = cross_val_score(estimator, X, y, cv = kfold)\n",
    "print (\"Baseline: %.2f%% (%.2f%%)\" % (results.mean()*100, results.std()*100))"
   ]
  },
  {
   "cell_type": "code",
   "execution_count": 217,
   "metadata": {
    "collapsed": false
   },
   "outputs": [
    {
     "name": "stdout",
     "output_type": "stream",
     "text": [
      "             precision    recall  f1-score   support\n",
      "\n",
      "          0       0.06      0.74      0.11        23\n",
      "          1       0.37      0.05      0.09       220\n",
      "          2       0.25      0.06      0.10        51\n",
      "          3       0.55      0.16      0.25        37\n",
      "\n",
      "avg / total       0.35      0.11      0.11       331\n",
      "\n"
     ]
    }
   ],
   "source": [
    "y_pred = cross_val_predict(estimator, X, y, cv = kfold)\n",
    "\n",
    "print classification_report(enc_y, y_pred)"
   ]
  },
  {
   "cell_type": "code",
   "execution_count": null,
   "metadata": {
    "collapsed": false
   },
   "outputs": [],
   "source": []
  },
  {
   "cell_type": "code",
   "execution_count": null,
   "metadata": {
    "collapsed": true
   },
   "outputs": [],
   "source": []
  }
 ],
 "metadata": {
  "kernelspec": {
   "display_name": "Python 2",
   "language": "python",
   "name": "python2"
  },
  "language_info": {
   "codemirror_mode": {
    "name": "ipython",
    "version": 2
   },
   "file_extension": ".py",
   "mimetype": "text/x-python",
   "name": "python",
   "nbconvert_exporter": "python",
   "pygments_lexer": "ipython2",
   "version": "2.7.11"
  }
 },
 "nbformat": 4,
 "nbformat_minor": 0
}
